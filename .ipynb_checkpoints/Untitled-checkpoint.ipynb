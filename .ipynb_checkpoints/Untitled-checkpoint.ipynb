{
 "cells": [
  {
   "cell_type": "markdown",
   "id": "tested-arena",
   "metadata": {},
   "source": [
    "# Intro to Machine Learning Project\n",
    "## Heart Attack Analysis\n",
    "### By JinWen Loh, Tom Liu"
   ]
  },
  {
   "cell_type": "markdown",
   "id": "whole-original",
   "metadata": {},
   "source": [
    "The task is to predict whether a patient is likely to get a heart attack when analyzing our chosen features."
   ]
  },
  {
   "cell_type": "markdown",
   "id": "broken-apple",
   "metadata": {},
   "source": [
    "Disclaimer: Code maybe adapted from past homework assignments."
   ]
  },
  {
   "cell_type": "markdown",
   "id": "headed-happening",
   "metadata": {},
   "source": [
    "## Features\n",
    "(Descriptions obtained from https://www.kaggle.com/rashikrahmanpritom/heart-attack-analysis-prediction-dataset)\n",
    "\n",
    "Age : Age of the patient\n",
    "\n",
    "Sex : Sex of the patient\n",
    "\n",
    "exang: exercise induced angina (1 = yes; 0 = no)\n",
    "\n",
    "ca: number of major vessels (0-3)\n",
    "\n",
    "cp : Chest Pain type chest pain type\n",
    "\n",
    "Value 1: typical angina\n",
    "Value 2: atypical angina\n",
    "Value 3: non-anginal pain\n",
    "Value 4: asymptomatic\n",
    "trtbps : resting blood pressure (in mm Hg)\n",
    "\n",
    "chol : cholestoral in mg/dl fetched via BMI sensor\n",
    "\n",
    "fbs : (fasting blood sugar > 120 mg/dl) (1 = true; 0 = false)\n",
    "\n",
    "rest_ecg : resting electrocardiographic results\n",
    "\n",
    "Value 0: normal\n",
    "Value 1: having ST-T wave abnormality (T wave inversions and/or ST elevation or depression of > 0.05 mV)\n",
    "Value 2: showing probable or definite left ventricular hypertrophy by Estes' criteria\n",
    "thalach : maximum heart rate achieved\n",
    "\n",
    "target : 0= less chance of heart attack 1= more chance of heart attack"
   ]
  },
  {
   "cell_type": "markdown",
   "id": "common-vocabulary",
   "metadata": {},
   "source": [
    "## Importing Libraries"
   ]
  },
  {
   "cell_type": "code",
   "execution_count": 4,
   "id": "unavailable-minneapolis",
   "metadata": {},
   "outputs": [],
   "source": [
    "import sklearn\n",
    "import pandas as pd\n",
    "from sklearn import svm\n",
    "from sklearn.neural_network import MLPClassifier\n",
    "from sklearn.datasets import load_breast_cancer # taking included data set from Sklearn http://scikit-learn.org/stable/modules/generated/sklearn.datasets.load_breast_cancer.html\n",
    "from sklearn.linear_model import LogisticRegression # importing Sklearn's logistic regression's module\n",
    "from sklearn import preprocessing # preprossing is what we do with the data before we run the learning algorithm\n",
    "from sklearn.preprocessing import PolynomialFeatures\n",
    "from sklearn.model_selection import train_test_split \n",
    "from sklearn import metrics\n",
    "from sklearn.metrics import accuracy_score\n",
    "from sklearn.metrics import precision_recall_fscore_support\n",
    "import numpy as np\n",
    "# import math\n",
    "import matplotlib.pyplot as plt"
   ]
  },
  {
   "cell_type": "markdown",
   "id": "special-frank",
   "metadata": {},
   "source": [
    "## Read from CSV file"
   ]
  },
  {
   "cell_type": "code",
   "execution_count": 5,
   "id": "committed-balloon",
   "metadata": {},
   "outputs": [],
   "source": [
    "df = pd.read_csv(\"heart.csv\")\n",
    "df = df.dropna()"
   ]
  },
  {
   "cell_type": "markdown",
   "id": "necessary-iraqi",
   "metadata": {},
   "source": [
    "## Convert data into numpy array and initialize Feature and Target"
   ]
  },
  {
   "cell_type": "code",
   "execution_count": 6,
   "id": "coupled-exhibit",
   "metadata": {},
   "outputs": [],
   "source": [
    "df_np = df.to_numpy()\n",
    "X = df_np[:, :13]\n",
    "Y = df_np[:, -1]"
   ]
  },
  {
   "cell_type": "markdown",
   "id": "formal-brunswick",
   "metadata": {},
   "source": [
    "## Visualizing Data"
   ]
  },
  {
   "cell_type": "code",
   "execution_count": 7,
   "id": "statewide-color",
   "metadata": {},
   "outputs": [
    {
     "data": {
      "text/html": [
       "<div>\n",
       "<style scoped>\n",
       "    .dataframe tbody tr th:only-of-type {\n",
       "        vertical-align: middle;\n",
       "    }\n",
       "\n",
       "    .dataframe tbody tr th {\n",
       "        vertical-align: top;\n",
       "    }\n",
       "\n",
       "    .dataframe thead th {\n",
       "        text-align: right;\n",
       "    }\n",
       "</style>\n",
       "<table border=\"1\" class=\"dataframe\">\n",
       "  <thead>\n",
       "    <tr style=\"text-align: right;\">\n",
       "      <th></th>\n",
       "      <th>age</th>\n",
       "      <th>sex</th>\n",
       "      <th>cp</th>\n",
       "      <th>trtbps</th>\n",
       "      <th>chol</th>\n",
       "      <th>fbs</th>\n",
       "      <th>restecg</th>\n",
       "      <th>thalachh</th>\n",
       "      <th>exng</th>\n",
       "      <th>oldpeak</th>\n",
       "      <th>slp</th>\n",
       "      <th>caa</th>\n",
       "      <th>thall</th>\n",
       "      <th>output</th>\n",
       "    </tr>\n",
       "  </thead>\n",
       "  <tbody>\n",
       "    <tr>\n",
       "      <th>0</th>\n",
       "      <td>63</td>\n",
       "      <td>1</td>\n",
       "      <td>3</td>\n",
       "      <td>145</td>\n",
       "      <td>233</td>\n",
       "      <td>1</td>\n",
       "      <td>0</td>\n",
       "      <td>150</td>\n",
       "      <td>0</td>\n",
       "      <td>2.3</td>\n",
       "      <td>0</td>\n",
       "      <td>0</td>\n",
       "      <td>1</td>\n",
       "      <td>1</td>\n",
       "    </tr>\n",
       "    <tr>\n",
       "      <th>1</th>\n",
       "      <td>37</td>\n",
       "      <td>1</td>\n",
       "      <td>2</td>\n",
       "      <td>130</td>\n",
       "      <td>250</td>\n",
       "      <td>0</td>\n",
       "      <td>1</td>\n",
       "      <td>187</td>\n",
       "      <td>0</td>\n",
       "      <td>3.5</td>\n",
       "      <td>0</td>\n",
       "      <td>0</td>\n",
       "      <td>2</td>\n",
       "      <td>1</td>\n",
       "    </tr>\n",
       "    <tr>\n",
       "      <th>2</th>\n",
       "      <td>41</td>\n",
       "      <td>0</td>\n",
       "      <td>1</td>\n",
       "      <td>130</td>\n",
       "      <td>204</td>\n",
       "      <td>0</td>\n",
       "      <td>0</td>\n",
       "      <td>172</td>\n",
       "      <td>0</td>\n",
       "      <td>1.4</td>\n",
       "      <td>2</td>\n",
       "      <td>0</td>\n",
       "      <td>2</td>\n",
       "      <td>1</td>\n",
       "    </tr>\n",
       "    <tr>\n",
       "      <th>3</th>\n",
       "      <td>56</td>\n",
       "      <td>1</td>\n",
       "      <td>1</td>\n",
       "      <td>120</td>\n",
       "      <td>236</td>\n",
       "      <td>0</td>\n",
       "      <td>1</td>\n",
       "      <td>178</td>\n",
       "      <td>0</td>\n",
       "      <td>0.8</td>\n",
       "      <td>2</td>\n",
       "      <td>0</td>\n",
       "      <td>2</td>\n",
       "      <td>1</td>\n",
       "    </tr>\n",
       "    <tr>\n",
       "      <th>4</th>\n",
       "      <td>57</td>\n",
       "      <td>0</td>\n",
       "      <td>0</td>\n",
       "      <td>120</td>\n",
       "      <td>354</td>\n",
       "      <td>0</td>\n",
       "      <td>1</td>\n",
       "      <td>163</td>\n",
       "      <td>1</td>\n",
       "      <td>0.6</td>\n",
       "      <td>2</td>\n",
       "      <td>0</td>\n",
       "      <td>2</td>\n",
       "      <td>1</td>\n",
       "    </tr>\n",
       "    <tr>\n",
       "      <th>...</th>\n",
       "      <td>...</td>\n",
       "      <td>...</td>\n",
       "      <td>...</td>\n",
       "      <td>...</td>\n",
       "      <td>...</td>\n",
       "      <td>...</td>\n",
       "      <td>...</td>\n",
       "      <td>...</td>\n",
       "      <td>...</td>\n",
       "      <td>...</td>\n",
       "      <td>...</td>\n",
       "      <td>...</td>\n",
       "      <td>...</td>\n",
       "      <td>...</td>\n",
       "    </tr>\n",
       "    <tr>\n",
       "      <th>298</th>\n",
       "      <td>57</td>\n",
       "      <td>0</td>\n",
       "      <td>0</td>\n",
       "      <td>140</td>\n",
       "      <td>241</td>\n",
       "      <td>0</td>\n",
       "      <td>1</td>\n",
       "      <td>123</td>\n",
       "      <td>1</td>\n",
       "      <td>0.2</td>\n",
       "      <td>1</td>\n",
       "      <td>0</td>\n",
       "      <td>3</td>\n",
       "      <td>0</td>\n",
       "    </tr>\n",
       "    <tr>\n",
       "      <th>299</th>\n",
       "      <td>45</td>\n",
       "      <td>1</td>\n",
       "      <td>3</td>\n",
       "      <td>110</td>\n",
       "      <td>264</td>\n",
       "      <td>0</td>\n",
       "      <td>1</td>\n",
       "      <td>132</td>\n",
       "      <td>0</td>\n",
       "      <td>1.2</td>\n",
       "      <td>1</td>\n",
       "      <td>0</td>\n",
       "      <td>3</td>\n",
       "      <td>0</td>\n",
       "    </tr>\n",
       "    <tr>\n",
       "      <th>300</th>\n",
       "      <td>68</td>\n",
       "      <td>1</td>\n",
       "      <td>0</td>\n",
       "      <td>144</td>\n",
       "      <td>193</td>\n",
       "      <td>1</td>\n",
       "      <td>1</td>\n",
       "      <td>141</td>\n",
       "      <td>0</td>\n",
       "      <td>3.4</td>\n",
       "      <td>1</td>\n",
       "      <td>2</td>\n",
       "      <td>3</td>\n",
       "      <td>0</td>\n",
       "    </tr>\n",
       "    <tr>\n",
       "      <th>301</th>\n",
       "      <td>57</td>\n",
       "      <td>1</td>\n",
       "      <td>0</td>\n",
       "      <td>130</td>\n",
       "      <td>131</td>\n",
       "      <td>0</td>\n",
       "      <td>1</td>\n",
       "      <td>115</td>\n",
       "      <td>1</td>\n",
       "      <td>1.2</td>\n",
       "      <td>1</td>\n",
       "      <td>1</td>\n",
       "      <td>3</td>\n",
       "      <td>0</td>\n",
       "    </tr>\n",
       "    <tr>\n",
       "      <th>302</th>\n",
       "      <td>57</td>\n",
       "      <td>0</td>\n",
       "      <td>1</td>\n",
       "      <td>130</td>\n",
       "      <td>236</td>\n",
       "      <td>0</td>\n",
       "      <td>0</td>\n",
       "      <td>174</td>\n",
       "      <td>0</td>\n",
       "      <td>0.0</td>\n",
       "      <td>1</td>\n",
       "      <td>1</td>\n",
       "      <td>2</td>\n",
       "      <td>0</td>\n",
       "    </tr>\n",
       "  </tbody>\n",
       "</table>\n",
       "<p>303 rows × 14 columns</p>\n",
       "</div>"
      ],
      "text/plain": [
       "     age  sex  cp  trtbps  chol  fbs  restecg  thalachh  exng  oldpeak  slp  \\\n",
       "0     63    1   3     145   233    1        0       150     0      2.3    0   \n",
       "1     37    1   2     130   250    0        1       187     0      3.5    0   \n",
       "2     41    0   1     130   204    0        0       172     0      1.4    2   \n",
       "3     56    1   1     120   236    0        1       178     0      0.8    2   \n",
       "4     57    0   0     120   354    0        1       163     1      0.6    2   \n",
       "..   ...  ...  ..     ...   ...  ...      ...       ...   ...      ...  ...   \n",
       "298   57    0   0     140   241    0        1       123     1      0.2    1   \n",
       "299   45    1   3     110   264    0        1       132     0      1.2    1   \n",
       "300   68    1   0     144   193    1        1       141     0      3.4    1   \n",
       "301   57    1   0     130   131    0        1       115     1      1.2    1   \n",
       "302   57    0   1     130   236    0        0       174     0      0.0    1   \n",
       "\n",
       "     caa  thall  output  \n",
       "0      0      1       1  \n",
       "1      0      2       1  \n",
       "2      0      2       1  \n",
       "3      0      2       1  \n",
       "4      0      2       1  \n",
       "..   ...    ...     ...  \n",
       "298    0      3       0  \n",
       "299    0      3       0  \n",
       "300    2      3       0  \n",
       "301    1      3       0  \n",
       "302    1      2       0  \n",
       "\n",
       "[303 rows x 14 columns]"
      ]
     },
     "execution_count": 7,
     "metadata": {},
     "output_type": "execute_result"
    },
    {
     "data": {
      "image/png": "[encoded data removed]",
      "text/plain": [
       "<Figure size 1800x1080 with 16 Axes>"
      ]
     },
     "metadata": {
      "needs_background": "light"
     },
     "output_type": "display_data"
    }
   ],
   "source": [
    "df.hist(figsize = (25, 15))\n",
    "plt.show\n",
    "df"
   ]
  },
  {
   "cell_type": "code",
   "execution_count": 8,
   "id": "cooked-collaboration",
   "metadata": {},
   "outputs": [
    {
     "data": {
      "image/png": "[encoded data removed]",
      "text/plain": [
       "<Figure size 432x288 with 1 Axes>"
      ]
     },
     "metadata": {
      "needs_background": "light"
     },
     "output_type": "display_data"
    },
    {
     "data": {
      "image/png": "[encoded data removed]",
      "text/plain": [
       "<Figure size 432x288 with 1 Axes>"
      ]
     },
     "metadata": {
      "needs_background": "light"
     },
     "output_type": "display_data"
    },
    {
     "data": {
      "image/png": "[encoded data removed]",
      "text/plain": [
       "<Figure size 432x288 with 1 Axes>"
      ]
     },
     "metadata": {
      "needs_background": "light"
     },
     "output_type": "display_data"
    },
    {
     "data": {
      "image/png": "[encoded data removed]",
      "text/plain": [
       "<Figure size 432x288 with 1 Axes>"
      ]
     },
     "metadata": {
      "needs_background": "light"
     },
     "output_type": "display_data"
    },
    {
     "data": {
      "image/png": "[encoded data removed]",
      "text/plain": [
       "<Figure size 432x288 with 1 Axes>"
      ]
     },
     "metadata": {
      "needs_background": "light"
     },
     "output_type": "display_data"
    },
    {
     "data": {
      "image/png": "[encoded data removed]",
      "text/plain": [
       "<Figure size 432x288 with 1 Axes>"
      ]
     },
     "metadata": {
      "needs_background": "light"
     },
     "output_type": "display_data"
    },
    {
     "data": {
      "image/png": "[encoded data removed]",
      "text/plain": [
       "<Figure size 432x288 with 1 Axes>"
      ]
     },
     "metadata": {
      "needs_background": "light"
     },
     "output_type": "display_data"
    },
    {
     "data": {
      "image/png": "[encoded data removed]",
      "text/plain": [
       "<Figure size 432x288 with 1 Axes>"
      ]
     },
     "metadata": {
      "needs_background": "light"
     },
     "output_type": "display_data"
    },
    {
     "data": {
      "image/png": "[encoded data removed]",
      "text/plain": [
       "<Figure size 432x288 with 1 Axes>"
      ]
     },
     "metadata": {
      "needs_background": "light"
     },
     "output_type": "display_data"
    },
    {
     "data": {
      "image/png": "[encoded data removed]",
      "text/plain": [
       "<Figure size 432x288 with 1 Axes>"
      ]
     },
     "metadata": {
      "needs_background": "light"
     },
     "output_type": "display_data"
    },
    {
     "data": {
      "image/png": "[encoded data removed]",
      "text/plain": [
       "<Figure size 432x288 with 1 Axes>"
      ]
     },
     "metadata": {
      "needs_background": "light"
     },
     "output_type": "display_data"
    },
    {
     "data": {
      "image/png": "[encoded data removed]",
      "text/plain": [
       "<Figure size 432x288 with 1 Axes>"
      ]
     },
     "metadata": {
      "needs_background": "light"
     },
     "output_type": "display_data"
    },
    {
     "data": {
      "image/png": "[encoded data removed]",
      "text/plain": [
       "<Figure size 432x288 with 1 Axes>"
      ]
     },
     "metadata": {
      "needs_background": "light"
     },
     "output_type": "display_data"
    }
   ],
   "source": [
    "# separating data into two sets according to output\n",
    "df0 = df[df[\"output\"]==0]\n",
    "df1 = df[df[\"output\"]==1]\n",
    "\n",
    "# Age\n",
    "bins = np.linspace(25, 80, 30)\n",
    "plt.hist(df0['age'], bins, alpha=0.5, label='Less Heart Attack Risk', color = 'green')\n",
    "plt.hist(df1['age'], bins, alpha=0.5, label='More Heart Attack Risk', color = 'red')\n",
    "plt.legend(loc='upper left')\n",
    "plt.title(\"Age\")\n",
    "plt.show()\n",
    "\n",
    "# Sex\n",
    "bins = np.linspace(0, 1, 3)\n",
    "plt.hist(df0['sex'], bins, alpha=0.5, label='Less Heart Attack Risk', color = 'green')\n",
    "plt.hist(df1['sex'], bins, alpha=0.5, label='More Heart Attack Risk', color = 'red')\n",
    "plt.legend(loc='upper left')\n",
    "plt.title(\"Sex (Female = 0, Male = 1)\")\n",
    "plt.show()\n",
    "\n",
    "# chest pain type\n",
    "bins = np.linspace(0, 5, 6)\n",
    "plt.hist(df0['cp'], bins, alpha=0.5, label='Less Heart Attack Risk', color = 'green')\n",
    "plt.hist(df1['cp'], bins, alpha=0.5, label='More Heart Attack Risk', color = 'red')\n",
    "plt.legend(loc='upper right')\n",
    "plt.title(\"Chest Pain Type\")\n",
    "plt.show()\n",
    "\n",
    "# resting blood pressure\n",
    "bins = np.linspace(90, 210, 30)\n",
    "plt.hist(df0['trtbps'], bins, alpha=0.5, label='Less Heart Attack Risk', color = 'green')\n",
    "plt.hist(df1['trtbps'], bins, alpha=0.5, label='More Heart Attack Risk', color = 'red')\n",
    "plt.legend(loc='upper right')\n",
    "plt.title(\"Resting Blood Pressure\")\n",
    "plt.show()\n",
    "\n",
    "# cholestoral in mg/dl\n",
    "bins = np.linspace(100, 600, 30)\n",
    "plt.hist(df0['chol'], bins, alpha=0.5, label='Less Heart Attack Risk', color = 'green')\n",
    "plt.hist(df1['chol'], bins, alpha=0.5, label='More Heart Attack Risk', color = 'red')\n",
    "plt.legend(loc='upper right')\n",
    "plt.title(\"Cholestoral in mg/dl\")\n",
    "plt.show()\n",
    "\n",
    "# Fasting Blood sugar > 120 mg/dl\n",
    "bins = np.linspace(0, 1, 3)\n",
    "plt.hist(df0['fbs'], bins, alpha=0.5, label='Less Heart Attack Risk', color = 'green')\n",
    "plt.hist(df1['fbs'], bins, alpha=0.5, label='More Heart Attack Risk', color = 'red')\n",
    "plt.legend(loc='upper right')\n",
    "plt.title(\"Fasting Blood Pressure > 120 mg/dl (0=false, 1=true)\")\n",
    "plt.show()\n",
    "\n",
    "# resting electrocardiographic results\n",
    "bins = np.linspace(0, 2, 4)\n",
    "plt.hist(df0['restecg'], bins, alpha=0.5, label='Less Heart Attack Risk', color = 'green')\n",
    "plt.hist(df1['restecg'], bins, alpha=0.5, label='More Heart Attack Risk', color = 'red')\n",
    "plt.legend(loc='upper right')\n",
    "plt.title(\"resting electrocardiographic results\")\n",
    "plt.show()\n",
    "\n",
    "# maximum heart rate achieved\n",
    "bins = np.linspace(70, 210, 30)\n",
    "plt.hist(df0['thalachh'], bins, alpha=0.5, label='Less Heart Attack Risk', color = 'green')\n",
    "plt.hist(df1['thalachh'], bins, alpha=0.5, label='More Heart Attack Risk', color = 'red')\n",
    "plt.legend(loc='upper left')\n",
    "plt.title(\"maximum heart rate achieved\")\n",
    "plt.show()\n",
    "\n",
    "# exercise induced angina\n",
    "bins = np.linspace(0, 1, 3)\n",
    "plt.hist(df0['exng'], bins, alpha=0.5, label='Less Heart Attack Risk', color = 'green')\n",
    "plt.hist(df1['exng'], bins, alpha=0.5, label='More Heart Attack Risk', color = 'red')\n",
    "plt.legend(loc='upper right')\n",
    "plt.title(\"exercise induced angina (0=false, 1=true)\")\n",
    "plt.show()\n",
    "\n",
    "# Previous Peak\n",
    "bins = np.linspace(0, 7, 9)\n",
    "plt.hist(df0['oldpeak'], bins, alpha=0.5, label='Less Heart Attack Risk', color = 'green')\n",
    "plt.hist(df1['oldpeak'], bins, alpha=0.5, label='More Heart Attack Risk', color = 'red')\n",
    "plt.legend(loc='upper right')\n",
    "plt.title(\"Previous Peak\")\n",
    "plt.show()\n",
    "\n",
    "# Slope\n",
    "bins = np.linspace(0, 2, 4)\n",
    "plt.hist(df0['slp'], bins, alpha=0.5, label='Less Heart Attack Risk', color = 'green')\n",
    "plt.hist(df1['slp'], bins, alpha=0.5, label='More Heart Attack Risk', color = 'red')\n",
    "plt.legend(loc='upper left')\n",
    "plt.title(\"Slope\")\n",
    "plt.show()\n",
    "\n",
    "# Number of Major Vessels\n",
    "bins = np.linspace(0, 4, 6)\n",
    "plt.hist(df0['caa'], bins, alpha=0.5, label='Less Heart Attack Risk', color = 'green')\n",
    "plt.hist(df1['caa'], bins, alpha=0.5, label='More Heart Attack Risk', color = 'red')\n",
    "plt.legend(loc='upper right')\n",
    "plt.title(\"Number of Major Vessels\")\n",
    "plt.show()\n",
    "\n",
    "# Thal Rate\n",
    "bins = np.linspace(0, 3, 5)\n",
    "plt.hist(df0['thall'], bins, alpha=0.5, label='Less Heart Attack Risk', color = 'green')\n",
    "plt.hist(df1['thall'], bins, alpha=0.5, label='More Heart Attack Risk', color = 'red')\n",
    "plt.legend(loc='upper left')\n",
    "plt.title(\"Thal Rate\")\n",
    "plt.show()"
   ]
  },
  {
   "cell_type": "markdown",
   "id": "flexible-experiment",
   "metadata": {},
   "source": [
    "## Scale features and split data into training and test sets"
   ]
  },
  {
   "cell_type": "code",
   "execution_count": 9,
   "id": "digital-pollution",
   "metadata": {},
   "outputs": [],
   "source": [
    "X_scale = preprocessing.StandardScaler().fit(X)\n",
    "X_scale = X_scale.transform(X)\n",
    "X_train, X_test, Y_train, Y_test = train_test_split(X_scale, Y, test_size=.2, random_state=42)\n",
    "Y_train_2d = Y_train.reshape((Y_train.shape[0], 1))\n",
    "Y_test_2d = Y_test.reshape((Y_test.shape[0], 1))"
   ]
  },
  {
   "cell_type": "markdown",
   "id": "ancient-feelings",
   "metadata": {},
   "source": [
    "## Create array to store accuracy of each classifier"
   ]
  },
  {
   "cell_type": "code",
   "execution_count": 10,
   "id": "ideal-aurora",
   "metadata": {},
   "outputs": [],
   "source": [
    "accuracy_train = []\n",
    "accuracy_test = []"
   ]
  },
  {
   "cell_type": "markdown",
   "id": "functional-threat",
   "metadata": {},
   "source": [
    "## Logistic Regression"
   ]
  },
  {
   "cell_type": "code",
   "execution_count": 11,
   "id": "touched-fleece",
   "metadata": {},
   "outputs": [],
   "source": [
    "logreg = LogisticRegression(C=1000000000) # High C val to approximate lambda=0\n",
    "logreg = logreg.fit(X_train, Y_train)\n",
    "Y_hat_train = logreg.predict(X_train)\n",
    "Y_hat_test = logreg.predict(X_test)\n",
    "acc_logreg_train = accuracy_score(Y_train, Y_hat_train)\n",
    "acc_logreg_test = accuracy_score(Y_test, Y_hat_test)\n",
    "accuracy_train.append(acc_logreg_train)\n",
    "accuracy_test.append(acc_logreg_test)"
   ]
  },
  {
   "cell_type": "markdown",
   "id": "stretch-chick",
   "metadata": {},
   "source": [
    "## SVM"
   ]
  },
  {
   "cell_type": "code",
   "execution_count": 12,
   "id": "comparative-asian",
   "metadata": {},
   "outputs": [],
   "source": [
    "svc_linear = svm.SVC(probability=False, kernel='linear', C=1)\n",
    "svc_linear = svc_linear.fit(X_train, Y_train)\n",
    "Yhat_svc_linear_train = svc_linear.predict(X_train)\n",
    "svc_linear_acc_train = accuracy_score(Y_train, Yhat_svc_linear_train)\n",
    "accuracy_train.append(svc_linear_acc_train)\n",
    "\n",
    "Yhat_svc_linear_test = svc_linear.predict(X_test)\n",
    "svc_linear_acc_test = accuracy_score(Y_test, Yhat_svc_linear_test)\n",
    "accuracy_test.append(svc_linear_acc_test)"
   ]
  },
  {
   "cell_type": "markdown",
   "id": "innocent-salmon",
   "metadata": {},
   "source": [
    "## Neural Network"
   ]
  },
  {
   "cell_type": "markdown",
   "id": "injured-nurse",
   "metadata": {},
   "source": [
    "Adapted from Sklearn website: https://scikit-learn.org/stable/modules/neural_networks_supervised.html"
   ]
  },
  {
   "cell_type": "code",
   "execution_count": 74,
   "id": "premium-choice",
   "metadata": {},
   "outputs": [],
   "source": [
    "nn = MLPClassifier(solver='lbfgs', alpha=1e-5, hidden_layer_sizes=(10, 10), random_state=1)\n",
    "nn = nn.fit(X_train, Y_train)\n",
    "Yhat_nn_train = nn.predict(X_train)\n",
    "nn_acc_train = accuracy_score(Y_train, Yhat_nn_train)\n",
    "accuracy_train.append(nn_acc_train)\n",
    "Yhat_nn_test = nn.predict(X_test)\n",
    "nn_acc_test = accuracy_score(Y_test, Yhat_nn_test)\n",
    "accuracy_test.append(nn_acc_test)"
   ]
  },
  {
   "cell_type": "markdown",
   "id": "indian-westminster",
   "metadata": {},
   "source": [
    "## Print Training and Test Accuracy of the Three Models"
   ]
  },
  {
   "cell_type": "code",
   "execution_count": 64,
   "id": "massive-address",
   "metadata": {
    "scrolled": true
   },
   "outputs": [
    {
     "name": "stdout",
     "output_type": "stream",
     "text": [
      "Training accuracy:  [0.8636363636363636, 0.8760330578512396, 1.0]\n",
      "Test accuracy [0.8524590163934426, 0.8688524590163934, 0.8524590163934426]\n"
     ]
    }
   ],
   "source": [
    "print(\"Training accuracy: \", accuracy_train)\n",
    "print(\"Test accuracy\", accuracy_test)"
   ]
  },
  {
   "cell_type": "markdown",
   "id": "bronze-generic",
   "metadata": {},
   "source": [
    "## Graphing Accuracy of the Different Classifiers"
   ]
  },
  {
   "cell_type": "code",
   "execution_count": 38,
   "id": "classified-vertex",
   "metadata": {},
   "outputs": [
    {
     "data": {
      "image/png": "[encoded data removed]",
      "text/plain": [
       "<Figure size 432x288 with 1 Axes>"
      ]
     },
     "metadata": {
      "needs_background": "light"
     },
     "output_type": "display_data"
    }
   ],
   "source": [
    "bar_acc_x_train = [\"Logreg\", \"SVM\", \"NN\"] \n",
    "bar_acc_y_train = accuracy_train\n",
    "plt.bar(bar_acc_x_train, bar_acc_y_train) \n",
    "bar_acc_x_test = [\"Logreg1\", \"SVM1\", \"NN1\"] \n",
    "bar_acc_y_test = accuracy_test\n",
    "plt.bar(bar_acc_x_test, bar_acc_y_test, color = 'g', align='center') \n",
    "plt.title('Accuracy Comparison Between Three Classifier For Training and Test Data') \n",
    "plt.ylabel('Accuracy') \n",
    "plt.xlabel('Classifier Type')  \n",
    "plt.legend(['Training', 'Test'])\n",
    "plt.show()"
   ]
  },
  {
   "cell_type": "markdown",
   "id": "decent-understanding",
   "metadata": {},
   "source": [
    "## Logistic Regression with L2 Regularization"
   ]
  },
  {
   "cell_type": "code",
   "execution_count": 66,
   "id": "identical-actress",
   "metadata": {},
   "outputs": [
    {
     "name": "stdout",
     "output_type": "stream",
     "text": [
      "Logistic Regression with L2 Regularization\n",
      "\n",
      "C= 0.01\n",
      "Training Accuracy:  0.8223140495867769\n",
      "Test Accuracy:  0.8852459016393442\n",
      "C= 0.1\n",
      "Training Accuracy:  0.8553719008264463\n",
      "Test Accuracy:  0.8688524590163934\n",
      "C= 1\n",
      "Training Accuracy:  0.8636363636363636\n",
      "Test Accuracy:  0.8524590163934426\n",
      "C= 10\n",
      "Training Accuracy:  0.8636363636363636\n",
      "Test Accuracy:  0.8524590163934426\n",
      "C= 100\n",
      "Training Accuracy:  0.8636363636363636\n",
      "Test Accuracy:  0.8524590163934426\n"
     ]
    }
   ],
   "source": [
    "acc_logreg_regu = []\n",
    "c = [0.01, 0.1, 1, 10, 100]\n",
    "print(\"Logistic Regression with L2 Regularization\\n\")\n",
    "for i in c:\n",
    "    logreg = LogisticRegression(C=i) # High C val to approximate lambda=0\n",
    "    logreg = logreg.fit(X_train, Y_train)\n",
    "    Y_hat_train = logreg.predict(X_train)\n",
    "    Y_hat_test = logreg.predict(X_test)\n",
    "    acc_logreg_train = accuracy_score(Y_train, Y_hat_train)\n",
    "    acc_logreg_test = accuracy_score(Y_test, Y_hat_test)\n",
    "    acc_logreg_regu.append(acc_logreg_train)\n",
    "    acc_logreg_regu.append(acc_logreg_test)\n",
    "    print(\"C=\", i)\n",
    "    print(\"Training Accuracy: \", acc_logreg_train)\n",
    "    print(\"Test Accuracy: \", acc_logreg_test)"
   ]
  },
  {
   "cell_type": "markdown",
   "id": "disciplinary-universe",
   "metadata": {},
   "source": [
    "## Logistic Regression with Polynomial Feature Transform"
   ]
  },
  {
   "cell_type": "code",
   "execution_count": 67,
   "id": "confidential-religious",
   "metadata": {},
   "outputs": [
    {
     "name": "stdout",
     "output_type": "stream",
     "text": [
      "Logistic Regression with Polynomial Feature Transform\n",
      "\n",
      "k= 1\n",
      "Training Accuracy:  0.8636363636363636\n",
      "Test Accuracy:  0.8524590163934426\n",
      "k= 2\n",
      "Training Accuracy:  1.0\n",
      "Test Accuracy:  0.819672131147541\n",
      "k= 3\n",
      "Training Accuracy:  1.0\n",
      "Test Accuracy:  0.819672131147541\n",
      "k= 4\n",
      "Training Accuracy:  1.0\n",
      "Test Accuracy:  0.8360655737704918\n",
      "k= 5\n",
      "Training Accuracy:  1.0\n",
      "Test Accuracy:  0.819672131147541\n",
      "k= 6\n",
      "Training Accuracy:  1.0\n",
      "Test Accuracy:  0.8688524590163934\n",
      "k= 7\n",
      "Training Accuracy:  1.0\n",
      "Test Accuracy:  0.7868852459016393\n",
      "k= 8\n",
      "Training Accuracy:  1.0\n",
      "Test Accuracy:  0.8360655737704918\n",
      "k= 9\n",
      "Training Accuracy:  1.0\n",
      "Test Accuracy:  0.8032786885245902\n",
      "k= 10\n",
      "Training Accuracy:  1.0\n",
      "Test Accuracy:  0.8360655737704918\n"
     ]
    }
   ],
   "source": [
    "acc_logreg_poly = []\n",
    "c = [1, 2, 3, 4, 5, 6, 7, 8, 9, 10]\n",
    "print(\"Logistic Regression with Polynomial Feature Transform\\n\")\n",
    "for i in c:\n",
    "    poly = PolynomialFeatures(i)\n",
    "    X_transformed_train = poly.fit_transform(X_train)\n",
    "    X_transformed_test = poly.fit_transform(X_test)\n",
    "    \n",
    "    logreg = LogisticRegression(C=100000000) # High C val to approximate lambda=0\n",
    "    logreg = logreg.fit(X_transformed_train, Y_train)\n",
    "    Y_hat_train = logreg.predict(X_transformed_train)\n",
    "    Y_hat_test = logreg.predict(X_transformed_test)\n",
    "    acc_logreg_train = accuracy_score(Y_train, Y_hat_train)\n",
    "    acc_logreg_test = accuracy_score(Y_test, Y_hat_test)\n",
    "    acc_logreg_regu.append(acc_logreg_train)\n",
    "    acc_logreg_regu.append(acc_logreg_test)\n",
    "    print(\"k=\", i)\n",
    "    print(\"Training Accuracy: \", acc_logreg_train)\n",
    "    print(\"Test Accuracy: \", acc_logreg_test)"
   ]
  },
  {
   "cell_type": "markdown",
   "id": "round-ghost",
   "metadata": {},
   "source": [
    "$\\bf Notice\\ that\\ test\\ accuracy\\ peaks\\ at\\ k=6,\\ suggesting\\ that\\ the\\ model\\ neither\\ overfits/underfits\\ at\\ k=6.\\ Also\\ of\\ note:\\ runtime\\ increases\\ drastically\\ as\\ k\\ increases.$"
   ]
  },
  {
   "cell_type": "markdown",
   "id": "separated-surface",
   "metadata": {},
   "source": [
    "## Linear SVM with different regularization values"
   ]
  },
  {
   "cell_type": "code",
   "execution_count": 73,
   "id": "pressed-professional",
   "metadata": {},
   "outputs": [
    {
     "name": "stdout",
     "output_type": "stream",
     "text": [
      "Linear SVM with L2 Regularization\n",
      "\n",
      "C= 0.001\n",
      "Training Accuracy:  0.6115702479338843\n",
      "Test Accuracy:  0.6229508196721312\n",
      "C= 0.01\n",
      "Training Accuracy:  0.8223140495867769\n",
      "Test Accuracy:  0.8852459016393442\n",
      "C= 0.1\n",
      "Training Accuracy:  0.8677685950413223\n",
      "Test Accuracy:  0.8852459016393442\n",
      "C= 1\n",
      "Training Accuracy:  0.8760330578512396\n",
      "Test Accuracy:  0.8688524590163934\n",
      "C= 10\n",
      "Training Accuracy:  0.8801652892561983\n",
      "Test Accuracy:  0.8852459016393442\n",
      "C= 100\n",
      "Training Accuracy:  0.8801652892561983\n",
      "Test Accuracy:  0.8852459016393442\n"
     ]
    }
   ],
   "source": [
    "acc_svm_regu = []\n",
    "c = [0.001, 0.01, 0.1, 1, 10, 100]\n",
    "print(\"Linear SVM with L2 Regularization\\n\")\n",
    "for i in c:\n",
    "    svc_linear = svm.SVC(probability=False, kernel='linear', C=i)\n",
    "    svc_linear = svc_linear.fit(X_train, Y_train)\n",
    "    Yhat_svc_linear_train = svc_linear.predict(X_train)\n",
    "    svc_linear_acc_train = accuracy_score(Y_train, Yhat_svc_linear_train)\n",
    "    acc_svm_regu.append(svc_linear_acc_train)\n",
    "\n",
    "    Yhat_svc_linear_test = svc_linear.predict(X_test)\n",
    "    svc_linear_acc_test = accuracy_score(Y_test, Yhat_svc_linear_test)\n",
    "    acc_svm_regu.append(svc_linear_acc_test)\n",
    "    print(\"C=\", i)\n",
    "    print(\"Training Accuracy: \", svc_linear_acc_train)\n",
    "    print(\"Test Accuracy: \", svc_linear_acc_test)"
   ]
  },
  {
   "cell_type": "markdown",
   "id": "south-seven",
   "metadata": {},
   "source": [
    "When C=0.001, lambda is highest out of all C's, but accuracy is lowest, essentially making it more of a hard margin SVM. This suggest that perhaps Linear SVM may not be sufficient to properly classify the points.\n",
    "Here it seems that C=0.01 would have the highest levels of regularization without sacrificing test accuracy."
   ]
  },
  {
   "cell_type": "markdown",
   "id": "geological-highlight",
   "metadata": {},
   "source": [
    "## Radial Basis Function SVM"
   ]
  },
  {
   "cell_type": "code",
   "execution_count": 69,
   "id": "competent-premium",
   "metadata": {},
   "outputs": [
    {
     "name": "stdout",
     "output_type": "stream",
     "text": [
      "Radial Basis Function SVM\n",
      "\n",
      "C= 0.001\n",
      "Training Accuracy:  0.5495867768595041\n",
      "Test Accuracy:  0.5245901639344263\n",
      "C= 0.01\n",
      "Training Accuracy:  0.5495867768595041\n",
      "Test Accuracy:  0.5245901639344263\n",
      "C= 0.1\n",
      "Training Accuracy:  0.8388429752066116\n",
      "Test Accuracy:  0.8852459016393442\n",
      "C= 1\n",
      "Training Accuracy:  0.9214876033057852\n",
      "Test Accuracy:  0.8688524590163934\n",
      "C= 10\n",
      "Training Accuracy:  0.987603305785124\n",
      "Test Accuracy:  0.819672131147541\n",
      "C= 100\n",
      "Training Accuracy:  1.0\n",
      "Test Accuracy:  0.819672131147541\n"
     ]
    }
   ],
   "source": [
    "acc_svm_regu = []\n",
    "c = [0.001, 0.01, 0.1, 1, 10, 100]\n",
    "print(\"Radial Basis Function SVM\\n\")\n",
    "for i in c:\n",
    "    svc_rbf = svm.SVC(probability=False, kernel='rbf', C=i)\n",
    "    svc_rbf = svc_rbf.fit(X_train, Y_train)\n",
    "    Yhat_svc_rbf_train = svc_rbf.predict(X_train)\n",
    "    svc_rbf_acc_train = accuracy_score(Y_train, Yhat_svc_rbf_train)\n",
    "    acc_svm_regu.append(svc_rbf_acc_train)\n",
    "\n",
    "    Yhat_svc_rbf_test = svc_rbf.predict(X_test)\n",
    "    svc_rbf_acc_test = accuracy_score(Y_test, Yhat_svc_rbf_test)\n",
    "    acc_svm_regu.append(svc_rbf_acc_test)\n",
    "    print(\"C=\", i)\n",
    "    print(\"Training Accuracy: \", svc_rbf_acc_train)\n",
    "    print(\"Test Accuracy: \", svc_rbf_acc_test)"
   ]
  },
  {
   "cell_type": "markdown",
   "id": "closed-perfume",
   "metadata": {},
   "source": [
    "RBF does not seem to be a good option if we desire a hard-margin SVM solution..."
   ]
  },
  {
   "cell_type": "markdown",
   "id": "better-cursor",
   "metadata": {},
   "source": [
    "## Polynomial Kernel SVM"
   ]
  },
  {
   "cell_type": "code",
   "execution_count": 70,
   "id": "fabulous-screen",
   "metadata": {},
   "outputs": [
    {
     "name": "stdout",
     "output_type": "stream",
     "text": [
      "SVM with Polynomial Kernel\n",
      "\n",
      "C= 0.001\n",
      "Training Accuracy:  0.5495867768595041\n",
      "Test Accuracy:  0.5245901639344263\n",
      "C= 0.01\n",
      "Training Accuracy:  0.5495867768595041\n",
      "Test Accuracy:  0.5245901639344263\n",
      "C= 0.1\n",
      "Training Accuracy:  0.743801652892562\n",
      "Test Accuracy:  0.7540983606557377\n",
      "C= 1\n",
      "Training Accuracy:  0.9297520661157025\n",
      "Test Accuracy:  0.9016393442622951\n",
      "C= 10\n",
      "Training Accuracy:  0.9793388429752066\n",
      "Test Accuracy:  0.8852459016393442\n",
      "C= 100\n",
      "Training Accuracy:  1.0\n",
      "Test Accuracy:  0.819672131147541\n"
     ]
    }
   ],
   "source": [
    "acc_svm_regu = []\n",
    "c = [0.001, 0.01, 0.1, 1, 10, 100]\n",
    "print(\"SVM with Polynomial Kernel\\n\")\n",
    "for i in c:\n",
    "    svc_poly = svm.SVC(probability=False, kernel='poly', C=i)\n",
    "    svc_poly = svc_poly.fit(X_train, Y_train)\n",
    "    Yhat_svc_poly_train = svc_poly.predict(X_train)\n",
    "    svc_poly_acc_train = accuracy_score(Y_train, Yhat_svc_poly_train)\n",
    "    acc_svm_regu.append(svc_poly_acc_train)\n",
    "\n",
    "    Yhat_svc_poly_test = svc_poly.predict(X_test)\n",
    "    svc_poly_acc_test = accuracy_score(Y_test, Yhat_svc_poly_test)\n",
    "    acc_svm_regu.append(svc_poly_acc_test)\n",
    "    print(\"C=\", i)\n",
    "    print(\"Training Accuracy: \", svc_poly_acc_train)\n",
    "    print(\"Test Accuracy: \", svc_poly_acc_test)"
   ]
  },
  {
   "cell_type": "markdown",
   "id": "acknowledged-baker",
   "metadata": {},
   "source": [
    "Neither is the polynomial kernel. However the polynomial kernel achieved the highest test accuracy out of the three options for SVM. This happens when C=1."
   ]
  },
  {
   "cell_type": "markdown",
   "id": "painted-acoustic",
   "metadata": {},
   "source": [
    "## Neural Networks with Regularization"
   ]
  },
  {
   "cell_type": "code",
   "execution_count": 90,
   "id": "metropolitan-recipient",
   "metadata": {},
   "outputs": [
    {
     "name": "stdout",
     "output_type": "stream",
     "text": [
      "Neural Network with Regularization\n",
      "\n",
      "C= 1e-06\n",
      "Training Accuracy:  1.0\n",
      "Test Accuracy:  0.8524590163934426\n",
      "C= 1e-05\n",
      "Training Accuracy:  1.0\n",
      "Test Accuracy:  0.8524590163934426\n",
      "C= 0.001\n",
      "Training Accuracy:  1.0\n",
      "Test Accuracy:  0.8360655737704918\n",
      "C= 0.01\n",
      "Training Accuracy:  1.0\n",
      "Test Accuracy:  0.8360655737704918\n",
      "C= 0.1\n",
      "Training Accuracy:  1.0\n",
      "Test Accuracy:  0.8524590163934426\n",
      "C= 1\n",
      "Training Accuracy:  1.0\n",
      "Test Accuracy:  0.8524590163934426\n",
      "C= 10\n",
      "Training Accuracy:  0.8925619834710744\n",
      "Test Accuracy:  0.8688524590163934\n",
      "C= 100\n",
      "Training Accuracy:  0.5495867768595041\n",
      "Test Accuracy:  0.5245901639344263\n"
     ]
    }
   ],
   "source": [
    "acc_nn_regu = []\n",
    "c = [0.000001, 0.00001, 0.001, 0.01, 0.1, 1, 10, 100]\n",
    "print(\"Neural Network with Regularization\\n\")\n",
    "for i in c:\n",
    "    nn = MLPClassifier(solver='lbfgs', alpha=i, hidden_layer_sizes=(10, 10), random_state=1, max_iter=10000000)\n",
    "    nn = nn.fit(X_train, Y_train)\n",
    "    Yhat_nn_train = nn.predict(X_train)\n",
    "    nn_acc_train = accuracy_score(Y_train, Yhat_nn_train)\n",
    "    acc_nn_regu.append(nn_acc_train)\n",
    "    Yhat_nn_test = nn.predict(X_test)\n",
    "    nn_acc_test = accuracy_score(Y_test, Yhat_nn_test)\n",
    "    acc_nn_regu.append(nn_acc_test)\n",
    "    print(\"Alpha=\", i)\n",
    "    print(\"Training Accuracy: \", nn_acc_train)\n",
    "    print(\"Test Accuracy: \", nn_acc_test)"
   ]
  },
  {
   "cell_type": "markdown",
   "id": "homeless-brooks",
   "metadata": {},
   "source": [
    "It seems that ideally the amount of regularization should be lower to obtain better test accuracy at Alpha=10"
   ]
  },
  {
   "cell_type": "markdown",
   "id": "weighted-melbourne",
   "metadata": {},
   "source": [
    "## Performance of Neural Network with Variable Layers"
   ]
  },
  {
   "cell_type": "code",
   "execution_count": 95,
   "id": "decreased-showcase",
   "metadata": {},
   "outputs": [
    {
     "name": "stdout",
     "output_type": "stream",
     "text": [
      "Neural Network with Regularization\n",
      "\n",
      "Hidden layer= 10\n",
      "\n",
      "Alpha= 1e-06\n",
      "Training Accuracy:  1.0\n",
      "Test Accuracy:  0.8524590163934426\n",
      "Alpha= 1e-05\n",
      "Training Accuracy:  1.0\n",
      "Test Accuracy:  0.8524590163934426\n",
      "Alpha= 0.001\n",
      "Training Accuracy:  1.0\n",
      "Test Accuracy:  0.8360655737704918\n",
      "Alpha= 0.01\n",
      "Training Accuracy:  1.0\n",
      "Test Accuracy:  0.8360655737704918\n",
      "Alpha= 0.1\n",
      "Training Accuracy:  1.0\n",
      "Test Accuracy:  0.8524590163934426\n",
      "Alpha= 1\n",
      "Training Accuracy:  0.9793388429752066\n",
      "Test Accuracy:  0.8524590163934426\n",
      "Alpha= 10\n",
      "Training Accuracy:  0.871900826446281\n",
      "Test Accuracy:  0.8688524590163934\n",
      "\n",
      "Hidden layer= (10, 10)\n",
      "\n",
      "Alpha= 1e-06\n",
      "Training Accuracy:  1.0\n",
      "Test Accuracy:  0.8524590163934426\n",
      "Alpha= 1e-05\n",
      "Training Accuracy:  1.0\n",
      "Test Accuracy:  0.8524590163934426\n",
      "Alpha= 0.001\n",
      "Training Accuracy:  1.0\n",
      "Test Accuracy:  0.8360655737704918\n",
      "Alpha= 0.01\n",
      "Training Accuracy:  1.0\n",
      "Test Accuracy:  0.8360655737704918\n",
      "Alpha= 0.1\n",
      "Training Accuracy:  1.0\n",
      "Test Accuracy:  0.8524590163934426\n",
      "Alpha= 1\n",
      "Training Accuracy:  1.0\n",
      "Test Accuracy:  0.8524590163934426\n",
      "Alpha= 10\n",
      "Training Accuracy:  0.8925619834710744\n",
      "Test Accuracy:  0.8688524590163934\n",
      "\n",
      "Hidden layer= (10, 10, 10)\n",
      "\n",
      "Alpha= 1e-06\n",
      "Training Accuracy:  1.0\n",
      "Test Accuracy:  0.8360655737704918\n",
      "Alpha= 1e-05\n",
      "Training Accuracy:  1.0\n",
      "Test Accuracy:  0.8360655737704918\n",
      "Alpha= 0.001\n",
      "Training Accuracy:  1.0\n",
      "Test Accuracy:  0.8524590163934426\n",
      "Alpha= 0.01\n",
      "Training Accuracy:  1.0\n",
      "Test Accuracy:  0.819672131147541\n",
      "Alpha= 0.1\n",
      "Training Accuracy:  1.0\n",
      "Test Accuracy:  0.8032786885245902\n",
      "Alpha= 1\n",
      "Training Accuracy:  1.0\n",
      "Test Accuracy:  0.819672131147541\n",
      "Alpha= 10\n",
      "Training Accuracy:  0.8925619834710744\n",
      "Test Accuracy:  0.8688524590163934\n",
      "\n"
     ]
    }
   ],
   "source": [
    "acc_nn_regu = []\n",
    "c = [0.000001, 0.00001, 0.001, 0.01, 0.1, 1, 10]\n",
    "l = [(10), (10, 10), (10, 10, 10)]\n",
    "print(\"Neural Network with Regularization\\n\")\n",
    "for j in l:\n",
    "    print(\"Hidden layer=\", j)\n",
    "    print()\n",
    "    for i in c:\n",
    "        nn = MLPClassifier(solver='lbfgs', alpha=i, hidden_layer_sizes=j, random_state=1, max_iter=10000000)\n",
    "        nn = nn.fit(X_train, Y_train)\n",
    "        Yhat_nn_train = nn.predict(X_train)\n",
    "        nn_acc_train = accuracy_score(Y_train, Yhat_nn_train)\n",
    "        acc_nn_regu.append(nn_acc_train)\n",
    "        Yhat_nn_test = nn.predict(X_test)\n",
    "        nn_acc_test = accuracy_score(Y_test, Yhat_nn_test)\n",
    "        acc_nn_regu.append(nn_acc_test)\n",
    "        print(\"Alpha=\", i)\n",
    "        print(\"Training Accuracy: \", nn_acc_train)\n",
    "        print(\"Test Accuracy: \", nn_acc_test)\n",
    "    print()"
   ]
  },
  {
   "cell_type": "markdown",
   "id": "atmospheric-relevance",
   "metadata": {},
   "source": [
    "Adding more layers does not seem to improve test accuracy by a whole lot. Neither does reducing it."
   ]
  },
  {
   "cell_type": "markdown",
   "id": "immediate-semester",
   "metadata": {},
   "source": [
    "## Conclusion:"
   ]
  },
  {
   "cell_type": "markdown",
   "id": "hispanic-retro",
   "metadata": {},
   "source": [
    "Using the Polynomial Kernel SVM with lambda=1 would most accurately predict the likelihood that a patient will get a heart attack, when compared with the different flavours of logistic regression, neural networks, and SVMs."
   ]
  },
  {
   "cell_type": "code",
   "execution_count": null,
   "id": "limiting-penalty",
   "metadata": {},
   "outputs": [],
   "source": []
  }
 ],
 "metadata": {
  "kernelspec": {
   "display_name": "Python 3",
   "language": "python",
   "name": "python3"
  },
  "language_info": {
   "codemirror_mode": {
    "name": "ipython",
    "version": 3
   },
   "file_extension": ".py",
   "mimetype": "text/x-python",
   "name": "python",
   "nbconvert_exporter": "python",
   "pygments_lexer": "ipython3",
   "version": "3.7.8"
  }
 },
 "nbformat": 4,
 "nbformat_minor": 5
}
